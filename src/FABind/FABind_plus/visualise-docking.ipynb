{
 "cells": [
  {
   "cell_type": "code",
   "execution_count": 2,
   "metadata": {},
   "outputs": [
    {
     "data": {
      "application/vnd.jupyter.widget-view+json": {
       "model_id": "2d872389688948f1a2b79d6515e89fcc",
       "version_major": 2,
       "version_minor": 0
      },
      "text/plain": [
       "NGLWidget()"
      ]
     },
     "metadata": {},
     "output_type": "display_data"
    }
   ],
   "source": [
    "#pdb_file = \"/root/projects/rl-enzyme-engineering/src/FABind/FABind_plus/inference_examples/pdb_files/6efk.pdb\"\n",
    "#sdf_file = \"/root/projects/rl-enzyme-engineering/src/FABind/FABind_plus/inference_examples/inference_output/6efk.sdf\"\n",
    "\n",
    "pdb_file = \"/root/projects/rl-enzyme-engineering/src/FABind/FABind_plus/inference_examples/pdb_files/6g3c.pdb\"\n",
    "sdf_file = \"/root/projects/rl-enzyme-engineering/src/FABind/FABind_plus/inference_examples/inference_output/6g3c.sdf\"\n",
    "import nglview as nv\n",
    "\n",
    "# Create the structures as separate components\n",
    "structure1 = nv.FileStructure(pdb_file)\n",
    "structure2 = nv.FileStructure(sdf_file)\n",
    "\n",
    "# Create a new NGLView widget\n",
    "view = nv.NGLWidget()\n",
    "\n",
    "# Add the structures to the view\n",
    "view.add_component(structure1)\n",
    "view.add_component(structure2)\n",
    "\n",
    "view\n"
   ]
  }
 ],
 "metadata": {
  "kernelspec": {
   "display_name": "env310",
   "language": "python",
   "name": "python3"
  },
  "language_info": {
   "codemirror_mode": {
    "name": "ipython",
    "version": 3
   },
   "file_extension": ".py",
   "mimetype": "text/x-python",
   "name": "python",
   "nbconvert_exporter": "python",
   "pygments_lexer": "ipython3",
   "version": "3.10.12"
  }
 },
 "nbformat": 4,
 "nbformat_minor": 2
}
